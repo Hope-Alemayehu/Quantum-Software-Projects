{
 "cells": [
  {
   "cell_type": "markdown",
   "id": "e68ae392",
   "metadata": {},
   "source": [
    "\n",
    "Grover Algortism Implementation to Unsorted Database\n",
    "\n",
    "Grover's algorithm, conceived by Lov Grover in 1996, has captivated researchers with its \n",
    "remarkable capability to expedite unstructured search exponentially compared to classical \n",
    "algorithms. By harnessing quantum parallelism and interference, Grover's algorithm offers \n",
    "a quadratic speedup, rendering it indispensable for endeavors such as database searching, \n",
    "optimization, and cryptography.\n",
    "\n",
    "In this project, we delve into the implementation of Grover's algorithm utilizing Qiskit,\n",
    "a quantum programming framework. Through this endeavor, we aim to explore the algorithm's \n",
    "principles and applications while demonstrating its efficacy in real-world scenarios.\n",
    "\n",
    "Time Complexity O(sqrt(N))---N stands for the number of items in the list\n"
   ]
  },
  {
   "cell_type": "code",
   "execution_count": 40,
   "id": "736d36f3",
   "metadata": {},
   "outputs": [],
   "source": [
    "from qiskit import QuantumCircuit, Aer, transpile, assemble\n",
    "from qiskit.visualization import plot_histogram\n",
    "from math import sqrt, pi\n"
   ]
  },
  {
   "cell_type": "code",
   "execution_count": 41,
   "id": "ee49470d",
   "metadata": {},
   "outputs": [],
   "source": [
    "# Define the unsorted list of numbers\n",
    "numbers = [5, 8, 2, 10, 7, 4, 3, 1, 9, 6]\n",
    "\n",
    "# Number to search for in the list\n",
    "target_number = 7\n",
    "\n",
    "# Determine the number of qubits required to represent the numbers\n",
    "num_qubits = len(numbers).bit_length()\n",
    "\n",
    "# Number of iterations for Grover's algorithm (approximately sqrt(N))\n",
    "num_iterations = round(sqrt(len(numbers)))\n",
    "\n"
   ]
  },
  {
   "cell_type": "code",
   "execution_count": 42,
   "id": "df366e40",
   "metadata": {},
   "outputs": [],
   "source": [
    "# Create a quantum circuit\n",
    "qc = QuantumCircuit(num_qubits)\n",
    "\n",
    "# Apply Hadamard gates to all qubits\n",
    "qc.h(range(num_qubits))\n",
    "\n",
    "# Apply Oracle to mark the state corresponding to the target number\n",
    "oracle = QuantumCircuit(num_qubits)\n",
    "for index, number in enumerate(numbers):\n",
    "    if number == target_number:\n",
    "        binary_index = format(index, f'0{num_qubits}b')\n",
    "        for qubit_index, bit in enumerate(binary_index):\n",
    "            if bit == '1':\n",
    "                oracle.x(qubit_index)\n",
    "                \n",
    "                \n",
    "oracle.h(range(num_qubits))\n",
    "oracle.z(range(num_qubits))\n",
    "for index, number in enumerate(numbers):\n",
    "    if number == target_number:\n",
    "        binary_index = format(index, f'0{num_qubits}b')\n",
    "        for qubit_index, bit in enumerate(binary_index):\n",
    "            if bit == '1':\n",
    "                oracle.x(qubit_index)\n",
    "qc = qc.compose(oracle)\n",
    "\n"
   ]
  },
  {
   "cell_type": "code",
   "execution_count": 43,
   "id": "5dafd36f",
   "metadata": {},
   "outputs": [],
   "source": [
    "\n",
    "# Apply Grover diffusion operator\n",
    "qc.h(range(num_qubits))\n",
    "qc.z(range(num_qubits))\n",
    "qc.cz(0, num_qubits - 1)\n",
    "qc.h(range(num_qubits))\n",
    "\n",
    "# Measure qubits\n",
    "qc.measure_all()\n",
    "\n"
   ]
  },
  {
   "cell_type": "code",
   "execution_count": 44,
   "id": "ea1410e2",
   "metadata": {},
   "outputs": [
    {
     "name": "stdout",
     "output_type": "stream",
     "text": [
      "Quantum Circuit:\n",
      "        ┌───┐┌───┐┌───┐┌───┐┌───┐        ┌───┐      ░ ┌─┐         \n",
      "   q_0: ┤ H ├┤ H ├┤ Z ├┤ H ├┤ Z ├──────■─┤ H ├──────░─┤M├─────────\n",
      "        ├───┤├───┤├───┤├───┤├───┤┌───┐ │ ├───┤┌───┐ ░ └╥┘┌─┐      \n",
      "   q_1: ┤ H ├┤ X ├┤ H ├┤ Z ├┤ X ├┤ H ├─┼─┤ Z ├┤ H ├─░──╫─┤M├──────\n",
      "        ├───┤├───┤├───┤├───┤├───┤├───┤ │ └───┘└───┘ ░  ║ └╥┘┌─┐   \n",
      "   q_2: ┤ H ├┤ H ├┤ Z ├┤ H ├┤ Z ├┤ H ├─┼────────────░──╫──╫─┤M├───\n",
      "        ├───┤├───┤├───┤├───┤├───┤└───┘ │ ┌───┐      ░  ║  ║ └╥┘┌─┐\n",
      "   q_3: ┤ H ├┤ H ├┤ Z ├┤ H ├┤ Z ├──────■─┤ H ├──────░──╫──╫──╫─┤M├\n",
      "        └───┘└───┘└───┘└───┘└───┘        └───┘      ░  ║  ║  ║ └╥┘\n",
      "meas: 4/═══════════════════════════════════════════════╩══╩══╩══╩═\n",
      "                                                       0  1  2  3 \n",
      "\n",
      "Measurement Outcomes:\n"
     ]
    },
    {
     "name": "stderr",
     "output_type": "stream",
     "text": [
      "C:\\Users\\ABN\\AppData\\Local\\Temp\\ipykernel_15292\\3191230269.py:9: DeprecationWarning: Using a qobj for run() is deprecated as of qiskit-aer 0.9.0 and will be removed no sooner than 3 months from that release date. Transpiled circuits should now be passed directly using `backend.run(circuits, **run_options).\n",
      "  result = simulator.run(qobj).result()\n"
     ]
    },
    {
     "data": {
      "image/png": "[encoded data removed]",
      "text/plain": [
       "<Figure size 700x500 with 1 Axes>"
      ]
     },
     "execution_count": 44,
     "metadata": {},
     "output_type": "execute_result"
    }
   ],
   "source": [
    "# Display quantum circuit\n",
    "print(\"Quantum Circuit:\")\n",
    "print(qc.draw())\n",
    "\n",
    "# Simulate the circuit\n",
    "simulator = Aer.get_backend('qasm_simulator')\n",
    "transpiled_qc = transpile(qc, simulator)\n",
    "qobj = assemble(transpiled_qc)\n",
    "result = simulator.run(qobj).result()\n",
    "\n",
    "# Plot measurement outcomes\n",
    "counts = result.get_counts()\n",
    "print(\"\\nMeasurement Outcomes:\")\n",
    "plot_histogram(counts)\n",
    "\n"
   ]
  }
 ],
 "metadata": {
  "kernelspec": {
   "display_name": "Python 3 (ipykernel)",
   "language": "python",
   "name": "python3"
  },
  "language_info": {
   "codemirror_mode": {
    "name": "ipython",
    "version": 3
   },
   "file_extension": ".py",
   "mimetype": "text/x-python",
   "name": "python",
   "nbconvert_exporter": "python",
   "pygments_lexer": "ipython3",
   "version": "3.11.5"
  }
 },
 "nbformat": 4,
 "nbformat_minor": 5
}
