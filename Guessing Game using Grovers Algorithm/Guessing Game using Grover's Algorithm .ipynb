{
 "cells": [
  {
   "cell_type": "code",
   "execution_count": 14,
   "id": "5ced0028",
   "metadata": {},
   "outputs": [
    {
     "name": "stdout",
     "output_type": "stream",
     "text": [
      "Submit a number: 6\n",
      "\n",
      "Candidate Answers with Probabilities:\n",
      "1100: 0.2285\n",
      "0101: 0.2575\n",
      "1101: 0.2570\n",
      "0100: 0.2570\n"
     ]
    },
    {
     "name": "stderr",
     "output_type": "stream",
     "text": [
      "C:\\Users\\ABN\\AppData\\Local\\Temp\\ipykernel_20488\\2993645308.py:60: DeprecationWarning: Using a qobj for run() is deprecated as of qiskit-aer 0.9.0 and will be removed no sooner than 3 months from that release date. Transpiled circuits should now be passed directly using `backend.run(circuits, **run_options).\n",
      "  result = simulator.run(qobj).result()\n"
     ]
    }
   ],
   "source": [
    "from qiskit import QuantumCircuit, Aer, transpile, assemble\n",
    "from math import sqrt\n",
    "\n",
    "# Define the set of numbers (no duplicates)\n",
    "numbersSet = {5, 8, 2, 10, 7, 4, 3, 1, 9, 6}\n",
    "number = [5, 8, 2, 10, 7, 4, 3, 1, 9, 6]\n",
    "\n",
    "# Prompt the user to submit a number\n",
    "target_number = int(input(\"Submit a number: \"))\n",
    "\n",
    "# Check if the submitted number is in the set\n",
    "if target_number not in numbersSet:\n",
    "    print(f\"There is no number {target_number} in the set.\")\n",
    "else:\n",
    "    # Determine the number of qubits required to represent the numbers\n",
    "    num_qubits = len(numbers).bit_length()\n",
    "\n",
    "    # Number of iterations for Grover's algorithm (approximately sqrt(N))\n",
    "    num_iterations = round(sqrt(len(numbers)))\n",
    "\n",
    "    # Create a quantum circuit\n",
    "    qc = QuantumCircuit(num_qubits)\n",
    "\n",
    "    # Apply Hadamard gates to all qubits\n",
    "    qc.h(range(num_qubits))\n",
    "\n",
    "    # Apply Oracle to mark the state corresponding to the target number\n",
    "    oracle = QuantumCircuit(num_qubits)\n",
    "    for index, number in enumerate(numbers):\n",
    "        if number == target_number:\n",
    "            binary_index = format(index, f'0{num_qubits}b')\n",
    "            for qubit_index, bit in enumerate(binary_index):\n",
    "                if bit == '1':\n",
    "                    oracle.x(qubit_index)\n",
    "\n",
    "    oracle.h(range(num_qubits))\n",
    "    oracle.z(range(num_qubits))\n",
    "    for index, number in enumerate(numbers):\n",
    "        if number == target_number:\n",
    "            binary_index = format(index, f'0{num_qubits}b')\n",
    "            for qubit_index, bit in enumerate(binary_index):\n",
    "                if bit == '1':\n",
    "                    oracle.x(qubit_index)\n",
    "\n",
    "    qc = qc.compose(oracle)\n",
    "\n",
    "    # Apply Grover diffusion operator\n",
    "    qc.h(range(num_qubits))\n",
    "    qc.z(range(num_qubits))\n",
    "    qc.cz(0, num_qubits - 1)\n",
    "    qc.h(range(num_qubits))\n",
    "\n",
    "    # Measure qubits\n",
    "    qc.measure_all()\n",
    "\n",
    "    # Simulate the circuit\n",
    "    simulator = Aer.get_backend('qasm_simulator')\n",
    "    transpiled_qc = transpile(qc, simulator)\n",
    "    qobj = assemble(transpiled_qc,  shots=2000)\n",
    "    result = simulator.run(qobj).result()\n",
    "\n",
    "    # Convert binary index to decimal\n",
    "    def binary_to_decimal(binary_str):\n",
    "        return int(binary_str, 2)\n",
    "\n",
    "    # Convert binary index to decimal for each outcome\n",
    "    counts = result.get_counts()\n",
    "    total_counts = sum(counts.values())\n",
    "\n",
    "    # Print candidate answers with probabilities\n",
    "    print(\"\\nCandidate Answers with Probabilities:\")\n",
    "    for index, count in counts.items():\n",
    "        probability = count / total_counts\n",
    "        print(f\"{index}: {probability:.4f}\")\n"
   ]
  },
  {
   "cell_type": "code",
   "execution_count": null,
   "id": "7cea6a1a",
   "metadata": {},
   "outputs": [],
   "source": []
  },
  {
   "cell_type": "code",
   "execution_count": null,
   "id": "dd7d6309",
   "metadata": {},
   "outputs": [],
   "source": []
  }
 ],
 "metadata": {
  "kernelspec": {
   "display_name": "Python 3 (ipykernel)",
   "language": "python",
   "name": "python3"
  },
  "language_info": {
   "codemirror_mode": {
    "name": "ipython",
    "version": 3
   },
   "file_extension": ".py",
   "mimetype": "text/x-python",
   "name": "python",
   "nbconvert_exporter": "python",
   "pygments_lexer": "ipython3",
   "version": "3.11.5"
  }
 },
 "nbformat": 4,
 "nbformat_minor": 5
}
