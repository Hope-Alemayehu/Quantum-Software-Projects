{
 "cells": [
  {
   "cell_type": "markdown",
   "id": "ba6a117a",
   "metadata": {},
   "source": [
    "Quantum Coin Flipping Game\n",
    "\n",
    "-Quantum coin flipping is based on quantum mechanics principles.\n",

    "n-It utilizes quantum superposition, allowing the quantum coin to exist in a combination of both heads and tails states simultaneously.\n",
   
    "-Measurement collapses the superposed states into a definite outcome, determined probabilistically.\n",
    
    "-This process introduces a unique form of randomness, distinct from classical coin flipping.\n",
   
    "-Quantum coin flipping has potential applications in cryptography and secure communication."
   ]
  },
  {
   "cell_type": "code",
   "execution_count": null,
   "id": "56e2cbcb",
   "metadata": {},
   "outputs": [],
   "source": [
    "from qiskit import QuantumCircuit, Aer, execute\n",
    "\n",
    "# Create a quantum circuit with 1 qubit and 1 classical bit\n",
    "qc = QuantumCircuit(1, 1)\n",
    "\n",
    "# Apply a Hadamard gate to create superposition\n",
    "qc.h(0)\n",
    "\n",
    "# Measure the qubit to obtain the result (head or tail)\n",
    "qc.measure(0, 0)\n",
    "\n",
    "# Simulate the quantum circuit\n",
    "simulator = Aer.get_backend('qasm_simulator')\n",
    "result = execute(qc, simulator, shots= 100).result()\n",
    "counts = result.get_counts()\n",
    "\n",
    "# Print the counts dictionary\n",
    "print(\"Counts:\", counts)\n",
    "\n",
    "# Determine the outcome and print the result\n",
    "if counts[\"0\"] > counts[\"1\"]:\n",
    "    print(\"Result: Head\")\n",
    "else:\n",
    "    print(\"Result: Tail\")\n"
   ]
  },
  {
   "cell_type": "code",
   "execution_count": null,
   "id": "1b49cfbd",
   "metadata": {},
   "outputs": [],
   "source": []
  }
 ],
 "metadata": {
  "kernelspec": {
   "display_name": "Python 3 (ipykernel)",
   "language": "python",
   "name": "python3"
  },
  "language_info": {
   "codemirror_mode": {
    "name": "ipython",
    "version": 3
   },
   "file_extension": ".py",
   "mimetype": "text/x-python",
   "name": "python",
   "nbconvert_exporter": "python",
   "pygments_lexer": "ipython3",
   "version": "3.11.5"
  }
 },
 "nbformat": 4,
 "nbformat_minor": 5
}
