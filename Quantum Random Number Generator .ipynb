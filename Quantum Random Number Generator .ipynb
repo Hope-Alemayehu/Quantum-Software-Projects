{
 "cells": [
  {
   "cell_type": "markdown",
   "id": "031706ec",
   "metadata": {},
   "source": [
    "Quantum Random Number Generator (QRNG)\n",
    "\n",
    "Description:\n",
    "QRNG utilizes quantum mechanics' inherent randomness to produce genuinely random numbers. By exploiting quantum superposition and measurement principles, it generates unpredictable and unbiased random outcomes.\n",
    "\n",
    "How it Works:\n",
    "\n",
    "User Input: QRNG prompts the user to specify the number of bits (num_bits) for the random number.\n",
    "\n",
    "Quantum Superposition: A quantum circuit with num_bits qubits is initialized, placing them in a state of superposition, representing all possible states simultaneously.\n",
    "\n",
    "Measurement: The quantum circuit is measured, collapsing the superposed states into binary outcomes (zeros and ones).\n",
    "\n",
    "Random Number Generation: The binary outcomes form a binary number, representing a decimal value within the range from 0 to 2^num_bits - 1. This result constitutes the generated random number, showcasing the probabilistic nature of quantum measurements.\n"
   ]
  },
  {
   "cell_type": "code",
   "execution_count": 27,
   "id": "ec4b1e4d",
   "metadata": {},
   "outputs": [
    {
     "name": "stdout",
     "output_type": "stream",
     "text": [
      "Enter the number of random bits to generate: 7\n",
      "Random Number:  1101011\n"
     ]
    },
    {
     "name": "stderr",
     "output_type": "stream",
     "text": [
      "C:\\Users\\ABN\\AppData\\Local\\Temp\\ipykernel_21092\\352642686.py:20: DeprecationWarning: The function ``qiskit.execute_function.execute()`` is deprecated as of qiskit 0.46.0. It will be removed in the Qiskit 1.0 release. This function combines ``transpile`` and ``backend.run``, which is covered by ``Sampler`` :mod:`~qiskit.primitives`. Alternatively, you can also run :func:`.transpile` followed by ``backend.run()``.\n",
      "  result = execute(qc, simulator, shots=1).result()\n"
     ]
    }
   ],
   "source": [
    "from qiskit import QuantumCircuit, Aer, execute\n",
    "\n",
    "def QRNG(num_bits):\n",
    "    # Initializing the quantum circuit with num_bits qubits and classical bits\n",
    "    qc = QuantumCircuit(num_bits, num_bits)\n",
    "    \n",
    "    # Create superposition\n",
    "    for qubit in range(num_bits):\n",
    "        qc.h(qubit)\n",
    "    \n",
    "    # Measure the qubits to extract the random bits\n",
    "    qubit_indices = range(num_bits)\n",
    "    classical_indices = range(num_bits)\n",
    "    \n",
    "    # Measure the qubits and store the results in the classical bits\n",
    "    qc.measure(qubit_indices, classical_indices)\n",
    "    \n",
    "    # Simulate the quantum circuit\n",
    "    simulator = Aer.get_backend('qasm_simulator')\n",
    "    result = execute(qc, simulator, shots=1).result()\n",
    "    counts = result.get_counts(qc)\n",
    "    \n",
    "    # Convert the binary string result to decimal number\n",
    "    random_number = int(list(counts.keys())[0],)\n",
    "    return random_number\n",
    "\n",
    "def main():\n",
    "    num_bits = int(input(\"Enter the number of random bits to generate: \"))\n",
    "    random_number = QRNG(num_bits)\n",
    "    print(\"Random Number: \", random_number)\n",
    "\n",
    "if __name__ == \"__main__\":\n",
    "    main()\n"
   ]
  },
  {
   "cell_type": "code",
   "execution_count": null,
   "id": "9f1a04a2",
   "metadata": {},
   "outputs": [],
   "source": []
  }
 ],
 "metadata": {
  "kernelspec": {
   "display_name": "Python 3 (ipykernel)",
   "language": "python",
   "name": "python3"
  },
  "language_info": {
   "codemirror_mode": {
    "name": "ipython",
    "version": 3
   },
   "file_extension": ".py",
   "mimetype": "text/x-python",
   "name": "python",
   "nbconvert_exporter": "python",
   "pygments_lexer": "ipython3",
   "version": "3.11.5"
  }
 },
 "nbformat": 4,
 "nbformat_minor": 5
}
