{
 "cells": [
  {
   "cell_type": "markdown",
   "id": "eb8632ff",
   "metadata": {},
   "source": [
    "SwapTest Subroutine\n",
    "\n",
    "The SwapTest subroutine is a crucial component of the quantum K-means algorithm. It is utilized to calculate the distances between data points and cluster centroids. Leveraging quantum parallelism, this subroutine efficiently computes the similarity between data points and centroids."
   ]
  },
  {
   "cell_type": "code",
   "execution_count": 2,
   "id": "ed1b2005",
   "metadata": {},
   "outputs": [
    {
     "name": "stdout",
     "output_type": "stream",
     "text": [
      "      ┌─────────────────────────────┐           \n",
      "q1_0: ┤ Initialize(0.70711,0.70711) ├─X─────────\n",
      "      ├─────────────────────────────┤ │         \n",
      "q1_1: ┤ Initialize(0.91915,0.39392) ├─X─────────\n",
      "      └────────────┬───┬────────────┘ │ ┌───┐┌─┐\n",
      "q1_2: ─────────────┤ H ├──────────────■─┤ H ├┤M├\n",
      "                   └───┘                └───┘└╥┘\n",
      "c1: 1/════════════════════════════════════════╩═\n",
      "                                              0 \n"
     ]
    },
    {
     "name": "stderr",
     "output_type": "stream",
     "text": [
      "C:\\Users\\ABN\\AppData\\Local\\Temp\\ipykernel_10052\\209880186.py:41: DeprecationWarning: The 'qiskit.Aer' entry point is deprecated and will be removed in Qiskit 1.0. You should use 'qiskit_aer.Aer' directly instead.\n",
      "  simulator = Aer.get_backend('qasm_simulator')\n",
      "C:\\Users\\ABN\\AppData\\Local\\Temp\\ipykernel_10052\\209880186.py:42: DeprecationWarning: The function ``qiskit.execute_function.execute()`` is deprecated as of qiskit 0.46.0. It will be removed in the Qiskit 1.0 release. This function combines ``transpile`` and ``backend.run``, which is covered by ``Sampler`` :mod:`~qiskit.primitives`. Alternatively, you can also run :func:`.transpile` followed by ``backend.run()``.\n",
      "  result = execute(test_circuit, simulator, shots=1024).result()\n"
     ]
    },
    {
     "name": "stdout",
     "output_type": "stream",
     "text": [
      "{'0': 962, '1': 62}\n"
     ]
    }
   ],
   "source": [
    "import numpy as np\n",
    "from qiskit import QuantumCircuit, QuantumRegister, ClassicalRegister, execute, Aer\n",
    "\n",
    "def normalize_state(state):\n",
    "    norm = np.linalg.norm(state)\n",
    "    return state / norm\n",
    "\n",
    "def swap_test(a, b):\n",
    "    # Normalize input states\n",
    "    a = normalize_state(a)\n",
    "    b = normalize_state(b)\n",
    "    \n",
    "    qr = QuantumRegister(3)\n",
    "    cr = ClassicalRegister(1)\n",
    "    circuit = QuantumCircuit(qr, cr)\n",
    "\n",
    "    # Initialize states |a> and |b>\n",
    "    circuit.initialize(a, 0)\n",
    "    circuit.initialize(b, 1)\n",
    "\n",
    "    # Apply Hadamard gate to control qubit\n",
    "    circuit.h(2)\n",
    "\n",
    "    # Apply controlled-SWAP gate\n",
    "    circuit.cswap(2, 0, 1)\n",
    "\n",
    "    # Apply Hadamard gate to control qubit\n",
    "    circuit.h(2)\n",
    "\n",
    "    # Measure the control qubit\n",
    "    circuit.measure(2, 0)\n",
    "\n",
    "    return circuit\n",
    "\n",
    "# Example usage\n",
    "a = [0.5, 0.5]  # Example state |a>\n",
    "b = [0.7, 0.3]  # Example state |b>\n",
    "test_circuit = swap_test(a, b)\n",
    "print(test_circuit)\n",
    "\n",
    "simulator = Aer.get_backend('qasm_simulator')\n",
    "result = execute(test_circuit, simulator, shots=1024).result()\n",
    "counts = result.get_counts(test_circuit)\n",
    "print(counts)\n"
   ]
  },
  {
   "cell_type": "code",
   "execution_count": null,
   "id": "63d46312",
   "metadata": {},
   "outputs": [],
   "source": []
  }
 ],
 "metadata": {
  "kernelspec": {
   "display_name": "Python 3 (ipykernel)",
   "language": "python",
   "name": "python3"
  },
  "language_info": {
   "codemirror_mode": {
    "name": "ipython",
    "version": 3
   },
   "file_extension": ".py",
   "mimetype": "text/x-python",
   "name": "python",
   "nbconvert_exporter": "python",
   "pygments_lexer": "ipython3",
   "version": "3.11.5"
  }
 },
 "nbformat": 4,
 "nbformat_minor": 5
}
